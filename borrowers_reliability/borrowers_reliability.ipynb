{
 "cells": [
  {
   "cell_type": "markdown",
   "metadata": {},
   "source": [
    "## Borrower reliability study\n",
    "\n",
    "The customer is the credit department of the bank. It is necessary to find out whether the marital status and the number of children of the client affect the fact of repaying the loan on time. Input data from the bank - statistics on the solvency of customers.\n",
    "\n",
    "The results of the study will be taken into account when building a **credit scoring** model - a special system that evaluates the ability of a potential borrower to repay a loan to a bank."
   ]
  },
  {
   "cell_type": "markdown",
   "metadata": {},
   "source": [
    "### Step 1. Open the data file and examine the general information."
   ]
  },
  {
   "cell_type": "code",
   "execution_count": 1,
   "metadata": {},
   "outputs": [
    {
     "name": "stdout",
     "output_type": "stream",
     "text": [
      "       children  days_employed  dob_years education  education_id  \\\n",
      "0             1   -8437.673028         42    высшее             0   \n",
      "1             1   -4024.803754         36   среднее             1   \n",
      "2             0   -5623.422610         33   Среднее             1   \n",
      "3             3   -4124.747207         32   среднее             1   \n",
      "4             0  340266.072047         53   среднее             1   \n",
      "...         ...            ...        ...       ...           ...   \n",
      "21520         1   -4529.316663         43   среднее             1   \n",
      "21521         0  343937.404131         67   среднее             1   \n",
      "21522         1   -2113.346888         38   среднее             1   \n",
      "21523         3   -3112.481705         38   среднее             1   \n",
      "21524         2   -1984.507589         40   среднее             1   \n",
      "\n",
      "          family_status  family_status_id gender income_type  debt  \\\n",
      "0       женат / замужем                 0      F   сотрудник     0   \n",
      "1       женат / замужем                 0      F   сотрудник     0   \n",
      "2       женат / замужем                 0      M   сотрудник     0   \n",
      "3       женат / замужем                 0      M   сотрудник     0   \n",
      "4      гражданский брак                 1      F   пенсионер     0   \n",
      "...                 ...               ...    ...         ...   ...   \n",
      "21520  гражданский брак                 1      F   компаньон     0   \n",
      "21521   женат / замужем                 0      F   пенсионер     0   \n",
      "21522  гражданский брак                 1      M   сотрудник     1   \n",
      "21523   женат / замужем                 0      M   сотрудник     1   \n",
      "21524   женат / замужем                 0      F   сотрудник     0   \n",
      "\n",
      "        total_income                       purpose  \n",
      "0      253875.639453                 покупка жилья  \n",
      "1      112080.014102       приобретение автомобиля  \n",
      "2      145885.952297                 покупка жилья  \n",
      "3      267628.550329    дополнительное образование  \n",
      "4      158616.077870               сыграть свадьбу  \n",
      "...              ...                           ...  \n",
      "21520  224791.862382             операции с жильем  \n",
      "21521  155999.806512          сделка с автомобилем  \n",
      "21522   89672.561153                  недвижимость  \n",
      "21523  244093.050500  на покупку своего автомобиля  \n",
      "21524   82047.418899         на покупку автомобиля  \n",
      "\n",
      "[21525 rows x 12 columns]\n",
      "<class 'pandas.core.frame.DataFrame'>\n",
      "RangeIndex: 21525 entries, 0 to 21524\n",
      "Data columns (total 12 columns):\n",
      " #   Column            Non-Null Count  Dtype  \n",
      "---  ------            --------------  -----  \n",
      " 0   children          21525 non-null  int64  \n",
      " 1   days_employed     19351 non-null  float64\n",
      " 2   dob_years         21525 non-null  int64  \n",
      " 3   education         21525 non-null  object \n",
      " 4   education_id      21525 non-null  int64  \n",
      " 5   family_status     21525 non-null  object \n",
      " 6   family_status_id  21525 non-null  int64  \n",
      " 7   gender            21525 non-null  object \n",
      " 8   income_type       21525 non-null  object \n",
      " 9   debt              21525 non-null  int64  \n",
      " 10  total_income      19351 non-null  float64\n",
      " 11  purpose           21525 non-null  object \n",
      "dtypes: float64(2), int64(5), object(5)\n",
      "memory usage: 2.0+ MB\n"
     ]
    },
    {
     "data": {
      "text/html": [
       "<div>\n",
       "<style scoped>\n",
       "    .dataframe tbody tr th:only-of-type {\n",
       "        vertical-align: middle;\n",
       "    }\n",
       "\n",
       "    .dataframe tbody tr th {\n",
       "        vertical-align: top;\n",
       "    }\n",
       "\n",
       "    .dataframe thead th {\n",
       "        text-align: right;\n",
       "    }\n",
       "</style>\n",
       "<table border=\"1\" class=\"dataframe\">\n",
       "  <thead>\n",
       "    <tr style=\"text-align: right;\">\n",
       "      <th></th>\n",
       "      <th>children</th>\n",
       "      <th>days_employed</th>\n",
       "      <th>dob_years</th>\n",
       "      <th>education</th>\n",
       "      <th>education_id</th>\n",
       "      <th>family_status</th>\n",
       "      <th>family_status_id</th>\n",
       "      <th>gender</th>\n",
       "      <th>income_type</th>\n",
       "      <th>debt</th>\n",
       "      <th>total_income</th>\n",
       "      <th>purpose</th>\n",
       "    </tr>\n",
       "  </thead>\n",
       "  <tbody>\n",
       "    <tr>\n",
       "      <th>0</th>\n",
       "      <td>1</td>\n",
       "      <td>-8437.673028</td>\n",
       "      <td>42</td>\n",
       "      <td>высшее</td>\n",
       "      <td>0</td>\n",
       "      <td>женат / замужем</td>\n",
       "      <td>0</td>\n",
       "      <td>F</td>\n",
       "      <td>сотрудник</td>\n",
       "      <td>0</td>\n",
       "      <td>253875.639453</td>\n",
       "      <td>покупка жилья</td>\n",
       "    </tr>\n",
       "    <tr>\n",
       "      <th>1</th>\n",
       "      <td>1</td>\n",
       "      <td>-4024.803754</td>\n",
       "      <td>36</td>\n",
       "      <td>среднее</td>\n",
       "      <td>1</td>\n",
       "      <td>женат / замужем</td>\n",
       "      <td>0</td>\n",
       "      <td>F</td>\n",
       "      <td>сотрудник</td>\n",
       "      <td>0</td>\n",
       "      <td>112080.014102</td>\n",
       "      <td>приобретение автомобиля</td>\n",
       "    </tr>\n",
       "    <tr>\n",
       "      <th>2</th>\n",
       "      <td>0</td>\n",
       "      <td>-5623.422610</td>\n",
       "      <td>33</td>\n",
       "      <td>Среднее</td>\n",
       "      <td>1</td>\n",
       "      <td>женат / замужем</td>\n",
       "      <td>0</td>\n",
       "      <td>M</td>\n",
       "      <td>сотрудник</td>\n",
       "      <td>0</td>\n",
       "      <td>145885.952297</td>\n",
       "      <td>покупка жилья</td>\n",
       "    </tr>\n",
       "    <tr>\n",
       "      <th>3</th>\n",
       "      <td>3</td>\n",
       "      <td>-4124.747207</td>\n",
       "      <td>32</td>\n",
       "      <td>среднее</td>\n",
       "      <td>1</td>\n",
       "      <td>женат / замужем</td>\n",
       "      <td>0</td>\n",
       "      <td>M</td>\n",
       "      <td>сотрудник</td>\n",
       "      <td>0</td>\n",
       "      <td>267628.550329</td>\n",
       "      <td>дополнительное образование</td>\n",
       "    </tr>\n",
       "    <tr>\n",
       "      <th>4</th>\n",
       "      <td>0</td>\n",
       "      <td>340266.072047</td>\n",
       "      <td>53</td>\n",
       "      <td>среднее</td>\n",
       "      <td>1</td>\n",
       "      <td>гражданский брак</td>\n",
       "      <td>1</td>\n",
       "      <td>F</td>\n",
       "      <td>пенсионер</td>\n",
       "      <td>0</td>\n",
       "      <td>158616.077870</td>\n",
       "      <td>сыграть свадьбу</td>\n",
       "    </tr>\n",
       "    <tr>\n",
       "      <th>...</th>\n",
       "      <td>...</td>\n",
       "      <td>...</td>\n",
       "      <td>...</td>\n",
       "      <td>...</td>\n",
       "      <td>...</td>\n",
       "      <td>...</td>\n",
       "      <td>...</td>\n",
       "      <td>...</td>\n",
       "      <td>...</td>\n",
       "      <td>...</td>\n",
       "      <td>...</td>\n",
       "      <td>...</td>\n",
       "    </tr>\n",
       "    <tr>\n",
       "      <th>21520</th>\n",
       "      <td>1</td>\n",
       "      <td>-4529.316663</td>\n",
       "      <td>43</td>\n",
       "      <td>среднее</td>\n",
       "      <td>1</td>\n",
       "      <td>гражданский брак</td>\n",
       "      <td>1</td>\n",
       "      <td>F</td>\n",
       "      <td>компаньон</td>\n",
       "      <td>0</td>\n",
       "      <td>224791.862382</td>\n",
       "      <td>операции с жильем</td>\n",
       "    </tr>\n",
       "    <tr>\n",
       "      <th>21521</th>\n",
       "      <td>0</td>\n",
       "      <td>343937.404131</td>\n",
       "      <td>67</td>\n",
       "      <td>среднее</td>\n",
       "      <td>1</td>\n",
       "      <td>женат / замужем</td>\n",
       "      <td>0</td>\n",
       "      <td>F</td>\n",
       "      <td>пенсионер</td>\n",
       "      <td>0</td>\n",
       "      <td>155999.806512</td>\n",
       "      <td>сделка с автомобилем</td>\n",
       "    </tr>\n",
       "    <tr>\n",
       "      <th>21522</th>\n",
       "      <td>1</td>\n",
       "      <td>-2113.346888</td>\n",
       "      <td>38</td>\n",
       "      <td>среднее</td>\n",
       "      <td>1</td>\n",
       "      <td>гражданский брак</td>\n",
       "      <td>1</td>\n",
       "      <td>M</td>\n",
       "      <td>сотрудник</td>\n",
       "      <td>1</td>\n",
       "      <td>89672.561153</td>\n",
       "      <td>недвижимость</td>\n",
       "    </tr>\n",
       "    <tr>\n",
       "      <th>21523</th>\n",
       "      <td>3</td>\n",
       "      <td>-3112.481705</td>\n",
       "      <td>38</td>\n",
       "      <td>среднее</td>\n",
       "      <td>1</td>\n",
       "      <td>женат / замужем</td>\n",
       "      <td>0</td>\n",
       "      <td>M</td>\n",
       "      <td>сотрудник</td>\n",
       "      <td>1</td>\n",
       "      <td>244093.050500</td>\n",
       "      <td>на покупку своего автомобиля</td>\n",
       "    </tr>\n",
       "    <tr>\n",
       "      <th>21524</th>\n",
       "      <td>2</td>\n",
       "      <td>-1984.507589</td>\n",
       "      <td>40</td>\n",
       "      <td>среднее</td>\n",
       "      <td>1</td>\n",
       "      <td>женат / замужем</td>\n",
       "      <td>0</td>\n",
       "      <td>F</td>\n",
       "      <td>сотрудник</td>\n",
       "      <td>0</td>\n",
       "      <td>82047.418899</td>\n",
       "      <td>на покупку автомобиля</td>\n",
       "    </tr>\n",
       "  </tbody>\n",
       "</table>\n",
       "<p>21525 rows × 12 columns</p>\n",
       "</div>"
      ],
      "text/plain": [
       "       children  days_employed  dob_years education  education_id  \\\n",
       "0             1   -8437.673028         42    высшее             0   \n",
       "1             1   -4024.803754         36   среднее             1   \n",
       "2             0   -5623.422610         33   Среднее             1   \n",
       "3             3   -4124.747207         32   среднее             1   \n",
       "4             0  340266.072047         53   среднее             1   \n",
       "...         ...            ...        ...       ...           ...   \n",
       "21520         1   -4529.316663         43   среднее             1   \n",
       "21521         0  343937.404131         67   среднее             1   \n",
       "21522         1   -2113.346888         38   среднее             1   \n",
       "21523         3   -3112.481705         38   среднее             1   \n",
       "21524         2   -1984.507589         40   среднее             1   \n",
       "\n",
       "          family_status  family_status_id gender income_type  debt  \\\n",
       "0       женат / замужем                 0      F   сотрудник     0   \n",
       "1       женат / замужем                 0      F   сотрудник     0   \n",
       "2       женат / замужем                 0      M   сотрудник     0   \n",
       "3       женат / замужем                 0      M   сотрудник     0   \n",
       "4      гражданский брак                 1      F   пенсионер     0   \n",
       "...                 ...               ...    ...         ...   ...   \n",
       "21520  гражданский брак                 1      F   компаньон     0   \n",
       "21521   женат / замужем                 0      F   пенсионер     0   \n",
       "21522  гражданский брак                 1      M   сотрудник     1   \n",
       "21523   женат / замужем                 0      M   сотрудник     1   \n",
       "21524   женат / замужем                 0      F   сотрудник     0   \n",
       "\n",
       "        total_income                       purpose  \n",
       "0      253875.639453                 покупка жилья  \n",
       "1      112080.014102       приобретение автомобиля  \n",
       "2      145885.952297                 покупка жилья  \n",
       "3      267628.550329    дополнительное образование  \n",
       "4      158616.077870               сыграть свадьбу  \n",
       "...              ...                           ...  \n",
       "21520  224791.862382             операции с жильем  \n",
       "21521  155999.806512          сделка с автомобилем  \n",
       "21522   89672.561153                  недвижимость  \n",
       "21523  244093.050500  на покупку своего автомобиля  \n",
       "21524   82047.418899         на покупку автомобиля  \n",
       "\n",
       "[21525 rows x 12 columns]"
      ]
     },
     "execution_count": 1,
     "metadata": {},
     "output_type": "execute_result"
    }
   ],
   "source": [
    "import pandas as pd\n",
    "data = pd.read_csv('/datasets/data.csv')\n",
    "print(data)\n",
    "data.info()\n",
    "data.dtypes\n",
    "data"
   ]
  },
  {
   "cell_type": "markdown",
   "metadata": {},
   "source": [
    "### Conclusion"
   ]
  },
  {
   "cell_type": "markdown",
   "metadata": {},
   "source": [
    "***Data type specified incorrectly in columns 'education_id', 'family_status_id', 'debt'\n",
    "Different case in the education column\n",
    "Negative values in the days_employed column\n",
    "Lemmas in the values in the purpose column***\n",
    "\n",
    "\n"
   ]
  },
  {
   "cell_type": "markdown",
   "metadata": {},
   "source": [
    "### Step 2. Data preprocessing"
   ]
  },
  {
   "cell_type": "markdown",
   "metadata": {},
   "source": [
    "### Pass processing"
   ]
  },
  {
   "cell_type": "code",
   "execution_count": 2,
   "metadata": {},
   "outputs": [],
   "source": [
    "nan = data[data['total_income'].isnull()].head(20) # Search columns with NaN\n",
    "data.loc[data['children'] < 0, 'children'] = data['children'] * -1 # Replace all negative values with positive ones in the 'days_employed' column\n",
    "data.loc[data['days_employed'] < 0, 'days_employed'] = data['days_employed'] * -1\n",
    "data.loc[data['children'] == 20 , 'children'] = 2 # Replacing the value 20 with 2\n",
    "days_employed_avg = data['days_employed'].median() # Median \n",
    "total_income_avg = data['total_income'].mean() # Mean\n",
    "dob_years_avg = data['dob_years'].mean() # Median\n",
    "data['days_employed'] = data['days_employed'].fillna(value = days_employed_avg) # replacing missing values with days_employed_avg\n",
    "data['total_income'] = data['total_income'].fillna(value = total_income_avg) # replacing missing values with total_income_avg\n",
    "data['dob_years'] = data['dob_years'].replace(0, dob_years_avg) # replacing values with total_income_avg"
   ]
  },
  {
   "cell_type": "markdown",
   "metadata": {},
   "source": [
    "### Conclusion"
   ]
  },
  {
   "cell_type": "markdown",
   "metadata": {},
   "source": [
    "***Missing values were found in columns 'total_income' and 'days_employed'\n",
    "Perhaps people did not indicate their income and hours of work, although some of them wrote that they are currently working.\n",
    "There were also negative values in the 'days_employed' column. Perhaps this error appeared when unloading data\n",
    "I filled in the gaps in the first column using the median. Since the values differed greatly\n",
    "In the second, using the average value.***"
   ]
  },
  {
   "cell_type": "markdown",
   "metadata": {},
   "source": [
    "### Data type replacement"
   ]
  },
  {
   "cell_type": "code",
   "execution_count": 3,
   "metadata": {},
   "outputs": [
    {
     "name": "stdout",
     "output_type": "stream",
     "text": [
      "       children  days_employed  dob_years education  education_id  \\\n",
      "0             1           8437         42    высшее             0   \n",
      "1             1           4024         36   среднее             1   \n",
      "2             0           5623         33   Среднее             1   \n",
      "3             3           4124         32   среднее             1   \n",
      "4             0         340266         53   среднее             1   \n",
      "...         ...            ...        ...       ...           ...   \n",
      "21520         1           4529         43   среднее             1   \n",
      "21521         0         343937         67   среднее             1   \n",
      "21522         1           2113         38   среднее             1   \n",
      "21523         3           3112         38   среднее             1   \n",
      "21524         2           1984         40   среднее             1   \n",
      "\n",
      "          family_status  family_status_id gender income_type  debt  \\\n",
      "0       женат / замужем                 0      F   сотрудник     0   \n",
      "1       женат / замужем                 0      F   сотрудник     0   \n",
      "2       женат / замужем                 0      M   сотрудник     0   \n",
      "3       женат / замужем                 0      M   сотрудник     0   \n",
      "4      гражданский брак                 1      F   пенсионер     0   \n",
      "...                 ...               ...    ...         ...   ...   \n",
      "21520  гражданский брак                 1      F   компаньон     0   \n",
      "21521   женат / замужем                 0      F   пенсионер     0   \n",
      "21522  гражданский брак                 1      M   сотрудник     1   \n",
      "21523   женат / замужем                 0      M   сотрудник     1   \n",
      "21524   женат / замужем                 0      F   сотрудник     0   \n",
      "\n",
      "       total_income                       purpose  \n",
      "0            253875                 покупка жилья  \n",
      "1            112080       приобретение автомобиля  \n",
      "2            145885                 покупка жилья  \n",
      "3            267628    дополнительное образование  \n",
      "4            158616               сыграть свадьбу  \n",
      "...             ...                           ...  \n",
      "21520        224791             операции с жильем  \n",
      "21521        155999          сделка с автомобилем  \n",
      "21522         89672                  недвижимость  \n",
      "21523        244093  на покупку своего автомобиля  \n",
      "21524         82047         на покупку автомобиля  \n",
      "\n",
      "[21525 rows x 12 columns]\n"
     ]
    }
   ],
   "source": [
    "data['total_income'] = data['total_income'].astype('int') # replacing the real data type with an integer in the total_income column\n",
    "data['days_employed'] = data['days_employed'].astype('int') # replace the real data type with an integer in the days_employed column\n",
    "data.loc[data['income_type'] == 'предприниматель', 'income_type'] = 'компаньон' # replacement value\n",
    "data['dob_years'] = data['dob_years'].astype('int')\n",
    "print(data)\n"
   ]
  },
  {
   "cell_type": "markdown",
   "metadata": {},
   "source": [
    "### Conclusion"
   ]
  },
  {
   "cell_type": "markdown",
   "metadata": {},
   "source": [
    "**I chose the method as it suits best in this case. There is 1 more method to_numeric(), but it converts strings to floats.**\n"
   ]
  },
  {
   "cell_type": "markdown",
   "metadata": {},
   "source": [
    "### Duplicate Handling"
   ]
  },
  {
   "cell_type": "code",
   "execution_count": 4,
   "metadata": {},
   "outputs": [
    {
     "data": {
      "text/plain": [
       "Int64Index([], dtype='int64')"
      ]
     },
     "execution_count": 4,
     "metadata": {},
     "output_type": "execute_result"
    }
   ],
   "source": [
    "data.index[data.income_type == 17]"
   ]
  },
  {
   "cell_type": "code",
   "execution_count": 5,
   "metadata": {},
   "outputs": [
    {
     "data": {
      "text/plain": [
       "'сотрудник'"
      ]
     },
     "execution_count": 5,
     "metadata": {},
     "output_type": "execute_result"
    }
   ],
   "source": [
    "data.income_type[0]"
   ]
  },
  {
   "cell_type": "code",
   "execution_count": 6,
   "metadata": {},
   "outputs": [
    {
     "name": "stdout",
     "output_type": "stream",
     "text": [
      "среднее                13750\n",
      "высшее                  4718\n",
      "СРЕДНЕЕ                  772\n",
      "Среднее                  711\n",
      "неоконченное высшее      668\n",
      "ВЫСШЕЕ                   274\n",
      "Высшее                   268\n",
      "начальное                250\n",
      "Неоконченное высшее       47\n",
      "НЕОКОНЧЕННОЕ ВЫСШЕЕ       29\n",
      "НАЧАЛЬНОЕ                 17\n",
      "Начальное                 15\n",
      "ученая степень             4\n",
      "Ученая степень             1\n",
      "УЧЕНАЯ СТЕПЕНЬ             1\n",
      "Name: education, dtype: int64\n"
     ]
    }
   ],
   "source": [
    "print(data['education'].value_counts()) # find outliers\n",
    "    # Removing outliers\n",
    "data = data.drop(data[data.income_type == 'в декрете'].index) \n",
    "data = data.drop(data[data.income_type == 'безработный'].index)\n",
    "data = data.drop(data[data.income_type == 'студент'].index)\n",
    "data = data.drop(data[data.children == 5].index)\n",
    "data = data.drop(data[data.education == 'ученая степень'].index)\n",
    "data = data.drop(data[data.gender == 'XNA'].index)\n",
    "\n"
   ]
  },
  {
   "cell_type": "code",
   "execution_count": 7,
   "metadata": {},
   "outputs": [
    {
     "name": "stdout",
     "output_type": "stream",
     "text": [
      "5\n"
     ]
    }
   ],
   "source": [
    "if 'i' in 'in':\n",
    "    print(5)"
   ]
  },
  {
   "cell_type": "code",
   "execution_count": 8,
   "metadata": {},
   "outputs": [],
   "source": [
    "data['education'] = data['education'].str.lower() # All lines to the same register\n",
    "data = data.drop_duplicates().reset_index(drop=True) # remove duplicates and reset indexes"
   ]
  },
  {
   "cell_type": "markdown",
   "metadata": {},
   "source": [
    "### Conclusion"
   ]
  },
  {
   "cell_type": "markdown",
   "metadata": {},
   "source": [
    "**There were not many duplicates in the table, but there were words with different case, and a few outliers.\n",
    "I replaced the entrepreneur with a companion, deleted everything else**\n",
    "Used the drop_duplicates() method\n",
    "Perhaps duplicates appeared due to a software error."
   ]
  },
  {
   "cell_type": "markdown",
   "metadata": {},
   "source": [
    "### Lemmatization"
   ]
  },
  {
   "cell_type": "code",
   "execution_count": 9,
   "metadata": {},
   "outputs": [
    {
     "name": "stdout",
     "output_type": "stream",
     "text": [
      "0                             [покупка,  , жилье, \\n]\n",
      "1                   [приобретение,  , автомобиль, \\n]\n",
      "2                             [покупка,  , жилье, \\n]\n",
      "3                [дополнительный,  , образование, \\n]\n",
      "4                           [сыграть,  , свадьба, \\n]\n",
      "                             ...                     \n",
      "21431                  [операция,  , с,  , жилье, \\n]\n",
      "21432               [сделка,  , с,  , автомобиль, \\n]\n",
      "21433                              [недвижимость, \\n]\n",
      "21434    [на,  , покупка,  , свой,  , автомобиль, \\n]\n",
      "21435             [на,  , покупка,  , автомобиль, \\n]\n",
      "Name: purpose_lem, Length: 21436, dtype: object\n"
     ]
    }
   ],
   "source": [
    "from pymystem3 import Mystem #import the library\n",
    "m = Mystem()\n",
    "purpose_lem = [] # create a list\n",
    "for i in data['purpose']:\n",
    "    lemmas = m.lemmatize(i) # Lemmatization\n",
    "    purpose_lem.append(lemmas) # add the resulting values to the list\n",
    "    \n",
    "data['purpose_lem'] = purpose_lem # add a new column to our dataframe\n",
    "print(data['purpose_lem'])\n"
   ]
  },
  {
   "cell_type": "markdown",
   "metadata": {},
   "source": [
    "### Вывод"
   ]
  },
  {
   "cell_type": "code",
   "execution_count": 10,
   "metadata": {},
   "outputs": [
    {
     "name": "stdout",
     "output_type": "stream",
     "text": [
      "Counter({'недвижимость': 6344, 'покупка': 5890, 'жилье': 4455, 'автомобиль': 4303, 'образование': 4011, 'с': 2915, 'операция': 2601, 'свадьба': 2323, 'свой': 2228, 'на': 2220, 'строительство': 1877, 'высокий': 1372, 'получение': 1314, 'коммерческий': 1310, 'для': 1288, 'жилой': 1229, 'сделка': 940, 'дополнительный': 906, 'заниматься': 902, 'проведение': 767, 'сыграть': 765, 'сдача': 650, 'семья': 638, 'собственный': 634, 'со': 626, 'ремонт': 606, 'подержанный': 485, 'подержать': 478, 'приобретение': 461, 'профильный': 436})\n"
     ]
    }
   ],
   "source": [
    "from collections import Counter # the Counter container from the collections module.\n",
    "lems = '' # create an empty string\n",
    "for lem in data['purpose_lem']: # Breaking the date set into lists\n",
    "    lems += ' '.join(lem) # We blind \n",
    "lems = lems.split() # Create a string\n",
    "print(Counter(lems))"
   ]
  },
  {
   "cell_type": "markdown",
   "metadata": {},
   "source": [
    "*** Of all the categories, I have identified 4 main ones (real estate, housing, car, education, wedding) ***"
   ]
  },
  {
   "cell_type": "markdown",
   "metadata": {},
   "source": [
    "### Data categorization"
   ]
  },
  {
   "cell_type": "code",
   "execution_count": 14,
   "metadata": {},
   "outputs": [],
   "source": [
    "# the main thing was whether the debts, and then any column can be added to this\n",
    "children_dict = data[['children', 'debt']]\n",
    "family_status_dict = data[['family_status', 'debt']]\n",
    "total_income_dict = data[['total_income', 'debt']]\n",
    "purpose_dict = data[['purpose', 'debt']]\n",
    "\n",
    "# Added categories\n",
    "children_total_income = data[['children', 'total_income']] \n",
    "income = data[['income_type', 'total_income']]\n",
    "income_group_dict = data[['income_group', 'debt']]\n",
    "status_dict = data[['family_status', 'dob_years']]"
   ]
  },
  {
   "cell_type": "markdown",
   "metadata": {},
   "source": [
    "### Conclusion"
   ]
  },
  {
   "cell_type": "markdown",
   "metadata": {},
   "source": [
    "***I have highlighted the main categories that I needed in subsequent assignments***\n"
   ]
  },
  {
   "cell_type": "markdown",
   "metadata": {},
   "source": [
    "### Step 3: Answer the questions"
   ]
  },
  {
   "cell_type": "markdown",
   "metadata": {},
   "source": [
    "- Is there a relationship between having children and repaying the loan on time?"
   ]
  },
  {
   "cell_type": "code",
   "execution_count": 15,
   "metadata": {},
   "outputs": [
    {
     "name": "stdout",
     "output_type": "stream",
     "text": [
      "              debt\n",
      "children          \n",
      "4         0.097561\n",
      "2         0.094499\n",
      "1         0.091490\n",
      "3         0.082067\n",
      "0         0.075465\n"
     ]
    }
   ],
   "source": [
    "children_dict = data[['children', 'debt']] # take only the necessary columns from the dataframe\n",
    "print(children_dict.groupby('children').mean().sort_values('debt',ascending=False)) # group by children and find the average debt"
   ]
  },
  {
   "cell_type": "markdown",
   "metadata": {},
   "source": [
    "### Conclusion"
   ]
  },
  {
   "cell_type": "markdown",
   "metadata": {},
   "source": [
    "***There is. Families without children repay loans better, while families with many children repay debts worse. I think this is due to the fact that a child takes a lot of time and money. It turns out that someone who spends, but does not earn, appears in the family. Also, parents cannot earn the same as without children, because they need to be educated.***\n",
    "\n"
   ]
  },
  {
   "cell_type": "markdown",
   "metadata": {},
   "source": [
    "- Is there a relationship between marital status and loan repayment on time?"
   ]
  },
  {
   "cell_type": "code",
   "execution_count": 16,
   "metadata": {},
   "outputs": [
    {
     "name": "stdout",
     "output_type": "stream",
     "text": [
      "                           debt\n",
      "family_status                  \n",
      "Не женат / не замужем  0.097544\n",
      "гражданский брак       0.093562\n",
      "женат / замужем        0.075363\n",
      "в разводе              0.071189\n",
      "вдовец / вдова         0.065693\n"
     ]
    }
   ],
   "source": [
    "family_status_dict = data[['family_status', 'debt']] # take only the necessary columns from the dataframe\n",
    "print(family_status_dict.groupby('family_status').mean().sort_values('debt',ascending=False)) # group by family_status and find the average debt"
   ]
  },
  {
   "cell_type": "markdown",
   "metadata": {},
   "source": [
    "### Conclusion"
   ]
  },
  {
   "cell_type": "markdown",
   "metadata": {},
   "source": [
    "***Those who are not married and not married, as well as in a civil marriage, are most often young, and they do not understand how loans work in general, since there is no financial literacy, or it is at a minimum level, therefore they return loans less often than anyone. It turns out the category of married / married and divorced is mostly middle-aged people and they are more responsible. In the widower / widow category, the most common are the elderly, they almost always give money away.***"
   ]
  },
  {
   "cell_type": "code",
   "execution_count": 17,
   "metadata": {},
   "outputs": [
    {
     "name": "stdout",
     "output_type": "stream",
     "text": [
      "                       dob_years\n",
      "family_status                   \n",
      "вдовец / вдова         56.727842\n",
      "в разводе              45.885260\n",
      "женат / замужем        43.720045\n",
      "гражданский брак       42.292501\n",
      "Не женат / не замужем  38.614454\n"
     ]
    }
   ],
   "source": [
    "# In support of my theory, you can analyze the data\n",
    "status_dict = data[['family_status', 'dob_years']] # take only the necessary columns from the dataframe\n",
    "print(status_dict.groupby('family_status').mean().sort_values('dob_years',ascending=False)) # group by family_status and find the average dob_years"
   ]
  },
  {
   "cell_type": "markdown",
   "metadata": {},
   "source": [
    "- Is there a relationship between the level of income and repayment of the loan on time?"
   ]
  },
  {
   "cell_type": "code",
   "execution_count": 18,
   "metadata": {},
   "outputs": [
    {
     "data": {
      "text/plain": [
       "0.25     107629.00\n",
       "0.50     156033.50\n",
       "0.75     195759.75\n",
       "1.00    2265604.00\n",
       "Name: total_income, dtype: float64"
      ]
     },
     "execution_count": 18,
     "metadata": {},
     "output_type": "execute_result"
    }
   ],
   "source": [
    "data['total_income'].quantile([0.25, 0.5, 0.75, 1]) #50% quantile == median\n"
   ]
  },
  {
   "cell_type": "code",
   "execution_count": 19,
   "metadata": {},
   "outputs": [
    {
     "name": "stdout",
     "output_type": "stream",
     "text": [
      "                   debt\n",
      "income_group           \n",
      "богатые        0.087330\n",
      "бедные         0.086397\n",
      "нищите         0.079306\n",
      "средний класс  0.071469\n"
     ]
    }
   ],
   "source": [
    "\"\"\"\n",
    "Returns the income level by the value of total_income using the rules:\n",
    "\n",
    "- 'poor' if income <= 50000\n",
    "\n",
    "- 'poor' if 50000 <= income <= 150000 inclusive\n",
    "\n",
    "- 'middle class' with a value of 150000 <= income <= 400000 inclusive\n",
    "\n",
    "- 'rich' in all other cases\n",
    "\"\"\"\n",
    "\n",
    "def income_group(row): \n",
    "\n",
    "    income = row['total_income']\n",
    "\n",
    "\n",
    "    if income <= 107629.00:\n",
    "        return 'нищите'\n",
    "    \n",
    "\n",
    "    if 156033.50 <= income <= 195759.75:\n",
    "\n",
    "\n",
    "        return 'бедные'\n",
    "    \n",
    "    if 195759.75 <= income <= 2265604.00:\n",
    "\n",
    "\n",
    "        return 'средний класс'\n",
    "\n",
    "    return 'богатые'\n",
    "data['income_group'] = data.apply(income_group, axis=1) # create a column with the received values\n",
    "\n",
    "income_group_dict = data[['income_group', 'debt']] # take only the necessary columns from the dataframe\n",
    "print(income_group_dict.groupby('income_group').mean().sort_values('debt',ascending=False)) # group by income_group and find the average debt"
   ]
  },
  {
   "cell_type": "code",
   "execution_count": 20,
   "metadata": {},
   "outputs": [
    {
     "name": "stdout",
     "output_type": "stream",
     "text": [
      "              total_income\n",
      "income_type               \n",
      "компаньон    199021.245814\n",
      "госслужащий  170623.097595\n",
      "сотрудник    161952.148880\n",
      "пенсионер    140150.895507\n"
     ]
    }
   ],
   "source": [
    "#data['total_income'].quantile([0.25, 0.5, 0.75, 1]) #50% quantile == median\n",
    "\n",
    "income = data[['income_type', 'total_income']] # take only the necessary columns from the dataframe\n",
    "print(income.groupby('income_type').mean().sort_values('total_income',ascending=False)) # group by income_type and find the average total_income"
   ]
  },
  {
   "cell_type": "markdown",
   "metadata": {},
   "source": [
    "### Conclusion"
   ]
  },
  {
   "cell_type": "markdown",
   "metadata": {},
   "source": [
    "***The rich return the loan less often than the poor and even the poor. Perhaps because entrepreneurs earn a lot of money, and a business loan is usually quite large and it is almost impossible to repay it if the business goes bankrupt. The poor most often simply do not have money to return, but the poor are mostly pensioners. They are more responsible. The middle class earns enough to return the money to the bank and most often they have a stable job.***"
   ]
  },
  {
   "cell_type": "markdown",
   "metadata": {},
   "source": [
    "- How do different purposes of the loan affect its repayment on time?"
   ]
  },
  {
   "cell_type": "code",
   "execution_count": 21,
   "metadata": {},
   "outputs": [
    {
     "name": "stdout",
     "output_type": "stream",
     "text": [
      "                   debt\n",
      "purpose_group          \n",
      "автомобиль     0.093423\n",
      "образование    0.092246\n",
      "свадьба        0.080069\n",
      "недвижимость   0.072322\n"
     ]
    }
   ],
   "source": [
    "\"\"\"\n",
    "Returns the loan type given the value of purpose_lem using the rules:\n",
    "\n",
    "- 'real estate' with the meaning ('housing' in income) or ('real estate' in income)\n",
    "\n",
    "- 'car' when 'car' in income\n",
    "\n",
    "- 'wedding' when 'wedding' in income\n",
    "\n",
    "- 'education' with the value 'education' in income:\n",
    "\n",
    "- 'not clear' in all other cases\n",
    "\"\"\"\n",
    "def purpose_group(row):\n",
    "    income = row['purpose_lem']\n",
    "    if ('жилье' in income) or ('недвижимость' in income):\n",
    "        return 'недвижимость'\n",
    "    \n",
    "    if 'автомобиль' in income:\n",
    "\n",
    "\n",
    "        return 'автомобиль'\n",
    "\n",
    "    if 'свадьба' in income:\n",
    "\n",
    "\n",
    "        return 'свадьба'\n",
    "\n",
    "    if 'образование' in income:\n",
    "\n",
    "\n",
    "        return 'образование'\n",
    "    \n",
    "    else:\n",
    "\n",
    "        return 'не понятно'\n",
    "\n",
    "        \n",
    "data['purpose_group'] = data.apply(purpose_group, axis=1) # create a column with the received values\n",
    "purpose_group_dict = data[['purpose_group', 'debt']] # take only the necessary columns from the dataframe\n",
    "print(purpose_group_dict.groupby('purpose_group').mean().sort_values('debt',ascending=False)) # group by income_group and find the average debt"
   ]
  },
  {
   "cell_type": "markdown",
   "metadata": {},
   "source": [
    "### Conclusion"
   ]
  },
  {
   "cell_type": "markdown",
   "metadata": {},
   "source": [
    "***A car loan is the least likely to be returned because this asset quickly loses its value and requires quite a large investment, and many do not think about it when buying. With education, it seems to me that people most often find it difficult to work and study. For a wedding, money is most often given and the family can pay off the loan together, it's not much easier than doing it alone, and real estate is the thing for which if you don't pay, they'll just be kicked out, so people try to find money anywhere to pay off the mortgage***\n"
   ]
  },
  {
   "cell_type": "markdown",
   "metadata": {},
   "source": [
    "### Step 4. General conclusion"
   ]
  },
  {
   "cell_type": "markdown",
   "metadata": {},
   "source": [
    "On average, customers are about equally likely not to return money.\n",
    "The level of income affects this the most. Another important feature is the purpose of the loan, marital status and the number of children.\n",
    "Families without children repay loans better, while families with many children repay debts worse. Those who are not married and not married, as well as in a civil marriage, most often do not give loans, but a widower / widow most often gives money. The rich return loans less often than the poor and even the poor. The middle class earns enough to pay back the bank and usually they have stable jobs, so they are the most reliable borrowers in this category. And the riskiest category of credit is a car and education, but the most protected is real estate.\n",
    "Portrait of the most reliable borrower - He has no children, is a widower, with earnings from 195759.75 to 2265604 and trying to get a loan for real estate.\n",
    "Portrait of the most risky borrower - He has 4 children, is not married or in a civil marriage, and with an income of 2265604 and he is trying to take out a loan for a car or education."
   ]
  },
  {
   "cell_type": "code",
   "execution_count": 22,
   "metadata": {
    "scrolled": false
   },
   "outputs": [
    {
     "name": "stdout",
     "output_type": "stream",
     "text": [
      "       children  days_employed  dob_years            education  education_id  \\\n",
      "767           0         367177         59              среднее             1   \n",
      "902           0           1826         66              среднее             1   \n",
      "1383          0         353802         37              среднее             1   \n",
      "1387          0           1985         56               высшее             0   \n",
      "1455          0         384834         58               высшее             0   \n",
      "1915          0         373836         67               высшее             0   \n",
      "1925          0         378929         65              среднее             1   \n",
      "2466          0           1160         62               высшее             0   \n",
      "2649          0         364303         62              среднее             1   \n",
      "2894          0           1272         58              среднее             1   \n",
      "3023          0            367         44               высшее             0   \n",
      "3075          0           1554         52  неоконченное высшее             2   \n",
      "3161          0         341513         53              среднее             1   \n",
      "3924          0           2805         60               высшее             0   \n",
      "4040          0         357494         61               высшее             0   \n",
      "4335          0           3257         46              среднее             1   \n",
      "5025          0         340641         69              среднее             1   \n",
      "5453          0           4037         63              среднее             1   \n",
      "5797          0         401063         67               высшее             0   \n",
      "5826          0           1651         52              среднее             1   \n",
      "6239          0         361895         56              среднее             1   \n",
      "6299          0         369573         54              среднее             1   \n",
      "6674          0            431         54              среднее             1   \n",
      "6970          0         378067         65               высшее             0   \n",
      "7025          0         342329         60              среднее             1   \n",
      "7124          0           3819         53              среднее             1   \n",
      "7239          0           3962         50              среднее             1   \n",
      "7672          0           6025         70               высшее             0   \n",
      "8348          0           2500         45              среднее             1   \n",
      "8757          0         394682         62              среднее             1   \n",
      "9336          0           2339         56  неоконченное высшее             2   \n",
      "9664          0           8157         42               высшее             0   \n",
      "9936          0           1707         68              среднее             1   \n",
      "9965          0           4367         53              среднее             1   \n",
      "10272         0         339943         62               высшее             0   \n",
      "10315         0         379600         65              среднее             1   \n",
      "10877         0         355792         71              среднее             1   \n",
      "10906         0           3046         60              среднее             1   \n",
      "11295         0           2541         54              среднее             1   \n",
      "11363         0           3849         45              среднее             1   \n",
      "11364         0           1475         49              среднее             1   \n",
      "11368         0         333723         60              среднее             1   \n",
      "12583         0           2492         50              среднее             1   \n",
      "12587         0         358166         63              среднее             1   \n",
      "12842         0         329742         62              среднее             1   \n",
      "13474         0           1307         56              среднее             1   \n",
      "13567         0           7111         48              среднее             1   \n",
      "13764         0         384047         54              среднее             1   \n",
      "13928         0           2212         42               высшее             0   \n",
      "14185         0         361424         66              среднее             1   \n",
      "14408         0           4279         55              среднее             1   \n",
      "14641         0         334060         60              среднее             1   \n",
      "14714         0         391013         66              среднее             1   \n",
      "15329         0           6991         44               высшее             0   \n",
      "15352         0           5934         47              среднее             1   \n",
      "15599         0           1397         61              среднее             1   \n",
      "15958         0           2657         62              среднее             1   \n",
      "16594         0           2026         61               высшее             0   \n",
      "16625         0           5425         45              среднее             1   \n",
      "16803         0         354177         56              среднее             1   \n",
      "\n",
      "        family_status  family_status_id gender  income_type  debt  \\\n",
      "767    вдовец / вдова                 2      F    пенсионер     0   \n",
      "902    вдовец / вдова                 2      F    компаньон     0   \n",
      "1383   вдовец / вдова                 2      F    пенсионер     0   \n",
      "1387   вдовец / вдова                 2      F    сотрудник     0   \n",
      "1455   вдовец / вдова                 2      F    пенсионер     0   \n",
      "1915   вдовец / вдова                 2      F    пенсионер     0   \n",
      "1925   вдовец / вдова                 2      F    пенсионер     0   \n",
      "2466   вдовец / вдова                 2      F    компаньон     0   \n",
      "2649   вдовец / вдова                 2      F    пенсионер     0   \n",
      "2894   вдовец / вдова                 2      F    сотрудник     0   \n",
      "3023   вдовец / вдова                 2      F    компаньон     0   \n",
      "3075   вдовец / вдова                 2      F    компаньон     0   \n",
      "3161   вдовец / вдова                 2      F    пенсионер     0   \n",
      "3924   вдовец / вдова                 2      F    компаньон     0   \n",
      "4040   вдовец / вдова                 2      F    пенсионер     0   \n",
      "4335   вдовец / вдова                 2      F    сотрудник     0   \n",
      "5025   вдовец / вдова                 2      F    пенсионер     0   \n",
      "5453   вдовец / вдова                 2      F    сотрудник     0   \n",
      "5797   вдовец / вдова                 2      F    пенсионер     0   \n",
      "5826   вдовец / вдова                 2      F    сотрудник     0   \n",
      "6239   вдовец / вдова                 2      F    пенсионер     0   \n",
      "6299   вдовец / вдова                 2      F    пенсионер     0   \n",
      "6674   вдовец / вдова                 2      F    сотрудник     0   \n",
      "6970   вдовец / вдова                 2      F    пенсионер     0   \n",
      "7025   вдовец / вдова                 2      F    пенсионер     0   \n",
      "7124   вдовец / вдова                 2      F    сотрудник     0   \n",
      "7239   вдовец / вдова                 2      F    сотрудник     0   \n",
      "7672   вдовец / вдова                 2      F  госслужащий     0   \n",
      "8348   вдовец / вдова                 2      F    сотрудник     0   \n",
      "8757   вдовец / вдова                 2      F    пенсионер     0   \n",
      "9336   вдовец / вдова                 2      F    сотрудник     0   \n",
      "9664   вдовец / вдова                 2      F  госслужащий     0   \n",
      "9936   вдовец / вдова                 2      F    сотрудник     0   \n",
      "9965   вдовец / вдова                 2      F    компаньон     0   \n",
      "10272  вдовец / вдова                 2      F    пенсионер     0   \n",
      "10315  вдовец / вдова                 2      F    пенсионер     0   \n",
      "10877  вдовец / вдова                 2      F    пенсионер     0   \n",
      "10906  вдовец / вдова                 2      M  госслужащий     0   \n",
      "11295  вдовец / вдова                 2      F    компаньон     0   \n",
      "11363  вдовец / вдова                 2      F    компаньон     1   \n",
      "11364  вдовец / вдова                 2      M    сотрудник     1   \n",
      "11368  вдовец / вдова                 2      F    пенсионер     0   \n",
      "12583  вдовец / вдова                 2      F    сотрудник     0   \n",
      "12587  вдовец / вдова                 2      F    пенсионер     0   \n",
      "12842  вдовец / вдова                 2      F    пенсионер     0   \n",
      "13474  вдовец / вдова                 2      M    сотрудник     0   \n",
      "13567  вдовец / вдова                 2      F    компаньон     0   \n",
      "13764  вдовец / вдова                 2      F    пенсионер     1   \n",
      "13928  вдовец / вдова                 2      M    компаньон     0   \n",
      "14185  вдовец / вдова                 2      F    пенсионер     0   \n",
      "14408  вдовец / вдова                 2      F    сотрудник     0   \n",
      "14641  вдовец / вдова                 2      F    пенсионер     0   \n",
      "14714  вдовец / вдова                 2      F    пенсионер     0   \n",
      "15329  вдовец / вдова                 2      F  госслужащий     0   \n",
      "15352  вдовец / вдова                 2      F    компаньон     0   \n",
      "15599  вдовец / вдова                 2      F    сотрудник     0   \n",
      "15958  вдовец / вдова                 2      F    компаньон     1   \n",
      "16594  вдовец / вдова                 2      F    сотрудник     0   \n",
      "16625  вдовец / вдова                 2      F    сотрудник     0   \n",
      "16803  вдовец / вдова                 2      F    пенсионер     0   \n",
      "\n",
      "       total_income                                 purpose  \\\n",
      "767          205155                                   жилье   \n",
      "902          546158                           покупка жилья   \n",
      "1383         216452              строительство недвижимости   \n",
      "1387         402224                                   жилье   \n",
      "1455         208593                                   жилье   \n",
      "1915         230877                            недвижимость   \n",
      "1925         308249                            недвижимость   \n",
      "2466         321164                           покупка жилья   \n",
      "2649         200508                 покупка жилья для сдачи   \n",
      "2894         268082                       операции с жильем   \n",
      "3023         214823        строительство жилой недвижимости   \n",
      "3075         249638                           покупка жилья   \n",
      "3161         231373   операции с коммерческой недвижимостью   \n",
      "3924         198429                 покупка жилья для семьи   \n",
      "4040         347944                 покупка жилья для сдачи   \n",
      "4335         205789                           покупка жилья   \n",
      "5025         259726                       операции с жильем   \n",
      "5453         250383                       операции с жильем   \n",
      "5797         454492                 покупка жилья для сдачи   \n",
      "5826         260377  строительство собственной недвижимости   \n",
      "6239         220961                 покупка жилья для семьи   \n",
      "6299         210528                 покупка жилья для семьи   \n",
      "6674         239843        строительство жилой недвижимости   \n",
      "6970         230719                            ремонт жилью   \n",
      "7025         210497        строительство жилой недвижимости   \n",
      "7124         223256                 покупка жилья для сдачи   \n",
      "7239         275388                           покупка жилья   \n",
      "7672         359425                операции с недвижимостью   \n",
      "8348         290162              строительство недвижимости   \n",
      "8757         218928        строительство жилой недвижимости   \n",
      "9336         258543       покупка коммерческой недвижимости   \n",
      "9664         307192         операции со своей недвижимостью   \n",
      "9936         268332                            ремонт жилью   \n",
      "9965         442880                            недвижимость   \n",
      "10272        249382                операции с недвижимостью   \n",
      "10315        266426                    покупка своего жилья   \n",
      "10877        229680                                   жилье   \n",
      "10906        268284       покупка коммерческой недвижимости   \n",
      "11295        204138  строительство собственной недвижимости   \n",
      "11363        332295       покупка коммерческой недвижимости   \n",
      "11364        200720              строительство недвижимости   \n",
      "11368        197334              покупка жилой недвижимости   \n",
      "12583        350426                                   жилье   \n",
      "12587        249115                    покупка своего жилья   \n",
      "12842        230266   операции с коммерческой недвижимостью   \n",
      "13474        204725         операции со своей недвижимостью   \n",
      "13567        255653                 покупка жилья для сдачи   \n",
      "13764        198888   операции с коммерческой недвижимостью   \n",
      "13928        210152                 покупка жилья для семьи   \n",
      "14185        197766   операции с коммерческой недвижимостью   \n",
      "14408        260733                 покупка жилья для сдачи   \n",
      "14641        202001  строительство собственной недвижимости   \n",
      "14714        272424                операции с недвижимостью   \n",
      "15329        393220                 покупка жилья для семьи   \n",
      "15352        436615                операции с недвижимостью   \n",
      "15599        252927         операции со своей недвижимостью   \n",
      "15958        214462                            недвижимость   \n",
      "16594        394260   операции с коммерческой недвижимостью   \n",
      "16625        288595   операции с коммерческой недвижимостью   \n",
      "16803        343849                       операции с жильем   \n",
      "\n",
      "                                             purpose_lem   income_group  \\\n",
      "767                                          [жилье, \\n]  средний класс   \n",
      "902                              [покупка,  , жилье, \\n]  средний класс   \n",
      "1383                [строительство,  , недвижимость, \\n]  средний класс   \n",
      "1387                                         [жилье, \\n]  средний класс   \n",
      "1455                                         [жилье, \\n]  средний класс   \n",
      "1915                                  [недвижимость, \\n]  средний класс   \n",
      "1925                                  [недвижимость, \\n]  средний класс   \n",
      "2466                             [покупка,  , жилье, \\n]  средний класс   \n",
      "2649           [покупка,  , жилье,  , для,  , сдача, \\n]  средний класс   \n",
      "2894                      [операция,  , с,  , жилье, \\n]  средний класс   \n",
      "3023      [строительство,  , жилой,  , недвижимость, \\n]  средний класс   \n",
      "3075                             [покупка,  , жилье, \\n]  средний класс   \n",
      "3161   [операция,  , с,  , коммерческий,  , недвижимо...  средний класс   \n",
      "3924           [покупка,  , жилье,  , для,  , семья, \\n]  средний класс   \n",
      "4040           [покупка,  , жилье,  , для,  , сдача, \\n]  средний класс   \n",
      "4335                             [покупка,  , жилье, \\n]  средний класс   \n",
      "5025                      [операция,  , с,  , жилье, \\n]  средний класс   \n",
      "5453                      [операция,  , с,  , жилье, \\n]  средний класс   \n",
      "5797           [покупка,  , жилье,  , для,  , сдача, \\n]  средний класс   \n",
      "5826   [строительство,  , собственный,  , недвижимост...  средний класс   \n",
      "6239           [покупка,  , жилье,  , для,  , семья, \\n]  средний класс   \n",
      "6299           [покупка,  , жилье,  , для,  , семья, \\n]  средний класс   \n",
      "6674      [строительство,  , жилой,  , недвижимость, \\n]  средний класс   \n",
      "6970                              [ремонт,  , жилье, \\n]  средний класс   \n",
      "7025      [строительство,  , жилой,  , недвижимость, \\n]  средний класс   \n",
      "7124           [покупка,  , жилье,  , для,  , сдача, \\n]  средний класс   \n",
      "7239                             [покупка,  , жилье, \\n]  средний класс   \n",
      "7672               [операция,  , с,  , недвижимость, \\n]  средний класс   \n",
      "8348                [строительство,  , недвижимость, \\n]  средний класс   \n",
      "8757      [строительство,  , жилой,  , недвижимость, \\n]  средний класс   \n",
      "9336     [покупка,  , коммерческий,  , недвижимость, \\n]  средний класс   \n",
      "9664     [операция,  , со,  , свой,  , недвижимость, \\n]  средний класс   \n",
      "9936                              [ремонт,  , жилье, \\n]  средний класс   \n",
      "9965                                  [недвижимость, \\n]  средний класс   \n",
      "10272              [операция,  , с,  , недвижимость, \\n]  средний класс   \n",
      "10315                   [покупка,  , свой,  , жилье, \\n]  средний класс   \n",
      "10877                                        [жилье, \\n]  средний класс   \n",
      "10906    [покупка,  , коммерческий,  , недвижимость, \\n]  средний класс   \n",
      "11295  [строительство,  , собственный,  , недвижимост...  средний класс   \n",
      "11363    [покупка,  , коммерческий,  , недвижимость, \\n]  средний класс   \n",
      "11364               [строительство,  , недвижимость, \\n]  средний класс   \n",
      "11368           [покупка,  , жилой,  , недвижимость, \\n]  средний класс   \n",
      "12583                                        [жилье, \\n]  средний класс   \n",
      "12587                   [покупка,  , свой,  , жилье, \\n]  средний класс   \n",
      "12842  [операция,  , с,  , коммерческий,  , недвижимо...  средний класс   \n",
      "13474    [операция,  , со,  , свой,  , недвижимость, \\n]  средний класс   \n",
      "13567          [покупка,  , жилье,  , для,  , сдача, \\n]  средний класс   \n",
      "13764  [операция,  , с,  , коммерческий,  , недвижимо...  средний класс   \n",
      "13928          [покупка,  , жилье,  , для,  , семья, \\n]  средний класс   \n",
      "14185  [операция,  , с,  , коммерческий,  , недвижимо...  средний класс   \n",
      "14408          [покупка,  , жилье,  , для,  , сдача, \\n]  средний класс   \n",
      "14641  [строительство,  , собственный,  , недвижимост...  средний класс   \n",
      "14714              [операция,  , с,  , недвижимость, \\n]  средний класс   \n",
      "15329          [покупка,  , жилье,  , для,  , семья, \\n]  средний класс   \n",
      "15352              [операция,  , с,  , недвижимость, \\n]  средний класс   \n",
      "15599    [операция,  , со,  , свой,  , недвижимость, \\n]  средний класс   \n",
      "15958                                 [недвижимость, \\n]  средний класс   \n",
      "16594  [операция,  , с,  , коммерческий,  , недвижимо...  средний класс   \n",
      "16625  [операция,  , с,  , коммерческий,  , недвижимо...  средний класс   \n",
      "16803                     [операция,  , с,  , жилье, \\n]  средний класс   \n",
      "\n",
      "      purpose_group  \n",
      "767    недвижимость  \n",
      "902    недвижимость  \n",
      "1383   недвижимость  \n",
      "1387   недвижимость  \n",
      "1455   недвижимость  \n",
      "1915   недвижимость  \n",
      "1925   недвижимость  \n",
      "2466   недвижимость  \n",
      "2649   недвижимость  \n",
      "2894   недвижимость  \n",
      "3023   недвижимость  \n",
      "3075   недвижимость  \n",
      "3161   недвижимость  \n",
      "3924   недвижимость  \n",
      "4040   недвижимость  \n",
      "4335   недвижимость  \n",
      "5025   недвижимость  \n",
      "5453   недвижимость  \n",
      "5797   недвижимость  \n",
      "5826   недвижимость  \n",
      "6239   недвижимость  \n",
      "6299   недвижимость  \n",
      "6674   недвижимость  \n",
      "6970   недвижимость  \n",
      "7025   недвижимость  \n",
      "7124   недвижимость  \n",
      "7239   недвижимость  \n",
      "7672   недвижимость  \n",
      "8348   недвижимость  \n",
      "8757   недвижимость  \n",
      "9336   недвижимость  \n",
      "9664   недвижимость  \n",
      "9936   недвижимость  \n",
      "9965   недвижимость  \n",
      "10272  недвижимость  \n",
      "10315  недвижимость  \n",
      "10877  недвижимость  \n",
      "10906  недвижимость  \n",
      "11295  недвижимость  \n",
      "11363  недвижимость  \n",
      "11364  недвижимость  \n",
      "11368  недвижимость  \n",
      "12583  недвижимость  \n",
      "12587  недвижимость  \n",
      "12842  недвижимость  \n",
      "13474  недвижимость  \n",
      "13567  недвижимость  \n",
      "13764  недвижимость  \n",
      "13928  недвижимость  \n",
      "14185  недвижимость  \n",
      "14408  недвижимость  \n",
      "14641  недвижимость  \n",
      "14714  недвижимость  \n",
      "15329  недвижимость  \n",
      "15352  недвижимость  \n",
      "15599  недвижимость  \n",
      "15958  недвижимость  \n",
      "16594  недвижимость  \n",
      "16625  недвижимость  \n",
      "16803  недвижимость  \n"
     ]
    }
   ],
   "source": [
    "#The most reliable borrowers\n",
    "print(data[(data['children'] == 0) & (data['family_status'] == 'вдовец / вдова') & ( data['total_income'] <= 2265604) & ( data['total_income'] >= 195759.75) & ( data['purpose_group'] == 'недвижимость')].head(60))"
   ]
  },
  {
   "cell_type": "code",
   "execution_count": 23,
   "metadata": {},
   "outputs": [
    {
     "name": "stdout",
     "output_type": "stream",
     "text": [
      "Empty DataFrame\n",
      "Columns: [children, days_employed, dob_years, education, education_id, family_status, family_status_id, gender, income_type, debt, total_income, purpose, purpose_lem, income_group, purpose_group]\n",
      "Index: []\n"
     ]
    }
   ],
   "source": [
    "# The most risky borrowers\n",
    "print(data[(data['children'] == 4) & (data['family_status'] == 'Не женат / не замужем') & ( data['total_income'] >= 2265604) & ( data['purpose_group'] == 'автомобиль')].head(60))"
   ]
  },
  {
   "cell_type": "code",
   "execution_count": null,
   "metadata": {},
   "outputs": [],
   "source": []
  }
 ],
 "metadata": {
  "ExecuteTimeLog": [
   {
    "duration": 854,
    "start_time": "2021-06-28T17:21:58.349Z"
   },
   {
    "duration": 30,
    "start_time": "2021-06-28T17:21:59.498Z"
   },
   {
    "duration": 24,
    "start_time": "2021-06-28T17:22:04.177Z"
   },
   {
    "duration": 42,
    "start_time": "2021-06-28T17:22:05.573Z"
   },
   {
    "duration": 7000,
    "start_time": "2021-06-28T17:22:36.878Z"
   },
   {
    "duration": 7140,
    "start_time": "2021-06-28T17:23:46.935Z"
   },
   {
    "duration": 11,
    "start_time": "2021-06-28T17:25:14.043Z"
   },
   {
    "duration": 9,
    "start_time": "2021-06-28T17:25:25.949Z"
   },
   {
    "duration": 5,
    "start_time": "2021-06-28T17:25:52.496Z"
   },
   {
    "duration": 7,
    "start_time": "2021-06-28T17:28:25.121Z"
   },
   {
    "duration": 8,
    "start_time": "2021-06-28T17:28:34.098Z"
   },
   {
    "duration": 283,
    "start_time": "2021-06-28T17:32:28.079Z"
   },
   {
    "duration": 271,
    "start_time": "2021-06-28T17:32:32.399Z"
   },
   {
    "duration": 5,
    "start_time": "2021-06-28T17:32:38.374Z"
   },
   {
    "duration": 105,
    "start_time": "2021-06-28T17:34:20.843Z"
   },
   {
    "duration": 5,
    "start_time": "2021-06-28T17:56:26.432Z"
   },
   {
    "duration": 784,
    "start_time": "2022-09-30T23:00:48.121Z"
   },
   {
    "duration": 477,
    "start_time": "2022-09-30T23:05:54.471Z"
   },
   {
    "duration": 18,
    "start_time": "2022-09-30T23:05:54.950Z"
   },
   {
    "duration": 14,
    "start_time": "2022-09-30T23:05:54.969Z"
   },
   {
    "duration": 5,
    "start_time": "2022-09-30T23:05:54.985Z"
   },
   {
    "duration": 11,
    "start_time": "2022-09-30T23:05:54.992Z"
   },
   {
    "duration": 43,
    "start_time": "2022-09-30T23:05:55.004Z"
   },
   {
    "duration": 3,
    "start_time": "2022-09-30T23:05:55.049Z"
   },
   {
    "duration": 33,
    "start_time": "2022-09-30T23:05:55.054Z"
   },
   {
    "duration": 3586,
    "start_time": "2022-09-30T23:05:55.088Z"
   },
   {
    "duration": 26,
    "start_time": "2022-09-30T23:05:58.676Z"
   },
   {
    "duration": 97,
    "start_time": "2022-09-30T23:05:58.704Z"
   },
   {
    "duration": 0,
    "start_time": "2022-09-30T23:05:58.802Z"
   },
   {
    "duration": 0,
    "start_time": "2022-09-30T23:05:58.804Z"
   },
   {
    "duration": 0,
    "start_time": "2022-09-30T23:05:58.805Z"
   },
   {
    "duration": 0,
    "start_time": "2022-09-30T23:05:58.806Z"
   },
   {
    "duration": 0,
    "start_time": "2022-09-30T23:05:58.807Z"
   },
   {
    "duration": 0,
    "start_time": "2022-09-30T23:05:58.808Z"
   },
   {
    "duration": 0,
    "start_time": "2022-09-30T23:05:58.809Z"
   },
   {
    "duration": 0,
    "start_time": "2022-09-30T23:05:58.810Z"
   },
   {
    "duration": 0,
    "start_time": "2022-09-30T23:05:58.811Z"
   },
   {
    "duration": 136,
    "start_time": "2022-09-30T23:07:18.014Z"
   },
   {
    "duration": 10,
    "start_time": "2022-09-30T23:07:18.933Z"
   },
   {
    "duration": 9,
    "start_time": "2022-09-30T23:07:22.517Z"
   },
   {
    "duration": 8,
    "start_time": "2022-09-30T23:07:24.555Z"
   },
   {
    "duration": 9,
    "start_time": "2022-09-30T23:07:25.255Z"
   },
   {
    "duration": 10,
    "start_time": "2022-09-30T23:07:25.732Z"
   },
   {
    "duration": 7,
    "start_time": "2022-09-30T23:07:26.064Z"
   },
   {
    "duration": 163,
    "start_time": "2022-09-30T23:07:26.234Z"
   },
   {
    "duration": 11,
    "start_time": "2022-09-30T23:07:26.400Z"
   },
   {
    "duration": 135,
    "start_time": "2022-09-30T23:07:27.078Z"
   },
   {
    "duration": 21,
    "start_time": "2022-09-30T23:07:27.918Z"
   },
   {
    "duration": 8,
    "start_time": "2022-09-30T23:07:28.068Z"
   }
  ],
  "kernelspec": {
   "display_name": "Python 3 (ipykernel)",
   "language": "python",
   "name": "python3"
  },
  "language_info": {
   "codemirror_mode": {
    "name": "ipython",
    "version": 3
   },
   "file_extension": ".py",
   "mimetype": "text/x-python",
   "name": "python",
   "nbconvert_exporter": "python",
   "pygments_lexer": "ipython3",
   "version": "3.9.5"
  },
  "toc": {
   "base_numbering": 1,
   "nav_menu": {},
   "number_sections": true,
   "sideBar": true,
   "skip_h1_title": true,
   "title_cell": "Table of Contents",
   "title_sidebar": "Contents",
   "toc_cell": false,
   "toc_position": {},
   "toc_section_display": true,
   "toc_window_display": false
  }
 },
 "nbformat": 4,
 "nbformat_minor": 2
}
